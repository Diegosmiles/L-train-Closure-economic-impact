{
 "cells": [
  {
   "cell_type": "markdown",
   "metadata": {},
   "source": [
    "# Commercial Impact Estimation Notebook - USI Social Impact\n",
    "Last updated: 10 March, 2016 by [@DQOFFICIAL](https://github.com/DQOfficial)"
   ]
  },
  {
   "cell_type": "code",
   "execution_count": 3,
   "metadata": {
    "collapsed": false
   },
   "outputs": [
    {
     "name": "stdout",
     "output_type": "stream",
     "text": [
      "2.7.11 (default, Dec  5 2015, 14:44:47) \n",
      "[GCC 4.2.1 Compatible Apple LLVM 7.0.0 (clang-700.1.76)]\n",
      "Populating the interactive namespace from numpy and matplotlib\n"
     ]
    }
   ],
   "source": [
    "import numpy as np\n",
    "import pandas as pd\n",
    "import matplotlib.pyplot as plt\n",
    "import geopandas as gp\n",
    "from pandas import DataFrame\n",
    "import math\n",
    "import seaborn as sns\n",
    "import sys\n",
    "print sys.version\n",
    "%pylab inline"
   ]
  },
  {
   "cell_type": "markdown",
   "metadata": {},
   "source": [
    "# PART 1 - Current Foot Traffic"
   ]
  },
  {
   "cell_type": "markdown",
   "metadata": {},
   "source": [
    "## Ridership and foot traffic analysis:"
   ]
  },
  {
   "cell_type": "code",
   "execution_count": 4,
   "metadata": {
    "collapsed": true
   },
   "outputs": [],
   "source": [
    "# pull in files from turnstile notebook (usi_turnstile.ipynb)\n",
    "metropolitan = pd.read_csv('station_metropolitan.csv')\n",
    "lorimer = pd.read_csv('station_lorimer.csv')\n",
    "nassau = pd.read_csv('station_nassau.csv')\n",
    "bedford = pd.read_csv('station_bedford.csv')\n",
    "graham = pd.read_csv('station_graham.csv')"
   ]
  },
  {
   "cell_type": "code",
   "execution_count": 5,
   "metadata": {
    "collapsed": true
   },
   "outputs": [],
   "source": [
    "Dictionary_stations={'metropolitan':metropolitan, 'lorimer':lorimer,'nassau':nassau,'bedford':bedford,'graham':graham}"
   ]
  },
  {
   "cell_type": "code",
   "execution_count": 6,
   "metadata": {
    "collapsed": false
   },
   "outputs": [
    {
     "name": "stdout",
     "output_type": "stream",
     "text": [
      "('OUTLIERS:', Index([u'R35300-06-00'], dtype='object', name=u'turnstile'), '02/12/2016', 'lorimer')\n",
      "('OUTLIERS:', Index([u'R35300-00-01'], dtype='object', name=u'turnstile'), '02/25/2016', 'lorimer')\n",
      "('OUTLIERS:', Index([u'R23500-06-01'], dtype='object', name=u'turnstile'), '02/16/2016', 'bedford')\n"
     ]
    }
   ],
   "source": [
    "av_daily_exits=pd.DataFrame(index=Dictionary_stations.keys(),columns=['count_daily_exits'])\n",
    "\n",
    "# test for outliers in turnstile counts \n",
    "for st in Dictionary_stations:\n",
    "    station=Dictionary_stations[st]\n",
    "    station.rename(columns = {'Unnamed: 0':'turnstile'}, inplace = True) \n",
    "    station.set_index('turnstile',inplace = True)\n",
    "    for date in station.columns:\n",
    "        values=station[date]\n",
    "        z_test=abs((values-mean(values)))<2.5*std(values) # use z-test\n",
    "        outliers_indexes=z_test.index[z_test==False]\n",
    "        if len(outliers_indexes!=0):\n",
    "            print('OUTLIERS:',outliers_indexes,date,st)\n",
    "            # replace the anomaly value with the median of that day\n",
    "            station.replace(station.loc[outliers_indexes,date][0], np.median(station[date]), inplace = True)\n",
    "    totals_list = [station[i].sum() for i in station.columns]\n",
    "    av_daily_exits.count_daily_exits[st]=int(np.mean(totals_list))\n",
    "    \n",
    "    "
   ]
  },
  {
   "cell_type": "code",
   "execution_count": 33,
   "metadata": {
    "collapsed": false
   },
   "outputs": [
    {
     "data": {
      "text/html": [
       "<div>\n",
       "<table border=\"1\" class=\"dataframe\">\n",
       "  <thead>\n",
       "    <tr style=\"text-align: right;\">\n",
       "      <th></th>\n",
       "      <th>count_daily_exits</th>\n",
       "      <th>percent_daily_exits</th>\n",
       "    </tr>\n",
       "  </thead>\n",
       "  <tbody>\n",
       "    <tr>\n",
       "      <th>nassau</th>\n",
       "      <td>3807</td>\n",
       "      <td>9.08527</td>\n",
       "    </tr>\n",
       "    <tr>\n",
       "      <th>lorimer</th>\n",
       "      <td>2553</td>\n",
       "      <td>6.09264</td>\n",
       "    </tr>\n",
       "    <tr>\n",
       "      <th>graham</th>\n",
       "      <td>5660</td>\n",
       "      <td>13.5074</td>\n",
       "    </tr>\n",
       "    <tr>\n",
       "      <th>metropolitan</th>\n",
       "      <td>3939</td>\n",
       "      <td>9.40028</td>\n",
       "    </tr>\n",
       "    <tr>\n",
       "      <th>bedford</th>\n",
       "      <td>25944</td>\n",
       "      <td>61.9144</td>\n",
       "    </tr>\n",
       "  </tbody>\n",
       "</table>\n",
       "</div>"
      ],
      "text/plain": [
       "             count_daily_exits percent_daily_exits\n",
       "nassau                    3807             9.08527\n",
       "lorimer                   2553             6.09264\n",
       "graham                    5660             13.5074\n",
       "metropolitan              3939             9.40028\n",
       "bedford                  25944             61.9144"
      ]
     },
     "execution_count": 33,
     "metadata": {},
     "output_type": "execute_result"
    }
   ],
   "source": [
    "# calculate the precent of total exits for each station \n",
    "av_daily_exits['percent_daily_exits']=(av_daily_exits.count_daily_exits/np.sum(av_daily_exits.count_daily_exits))*100\n",
    "av_daily_exits"
   ]
  },
  {
   "cell_type": "markdown",
   "metadata": {},
   "source": [
    "Now, we are going to estimate the foot traffic in the area around Bedford Avenue. For that estimate, we consider a portion of the exits (expansion weight) on the other stations and the total of people comming out from Bedford.\n",
    "\n",
    "We chose the negative exponencial function to model this expansion: this function has the value of 1 when the distance is 0 (that means, the weight is 1 in Bedford av) and the value vanishes quickly as the distance increases. "
   ]
  },
  {
   "cell_type": "code",
   "execution_count": 8,
   "metadata": {
    "collapsed": true
   },
   "outputs": [],
   "source": [
    "### GRAPHIC OF THIS FUNCTION!!"
   ]
  },
  {
   "cell_type": "code",
   "execution_count": 9,
   "metadata": {
    "collapsed": true
   },
   "outputs": [],
   "source": [
    "import scipy.stats"
   ]
  },
  {
   "cell_type": "code",
   "execution_count": 10,
   "metadata": {
    "collapsed": false
   },
   "outputs": [],
   "source": [
    "# Euclidian distances from the Bedford Ave station calculated using Google Earth\n",
    "distances_dic={'lorimer': 0.42,\n",
    "'graham':0.7,\n",
    "'metropolitan': 0.41 ,\n",
    "'nassau': 0.58,\n",
    "'bedford':0              }\n",
    "distances=pd.DataFrame.from_dict(distances_dic,orient='index')\n",
    "distances.rename(columns={0:'distance_to_bedford'},inplace= True)"
   ]
  },
  {
   "cell_type": "code",
   "execution_count": 34,
   "metadata": {
    "collapsed": true
   },
   "outputs": [],
   "source": [
    "# Create function to calcuate the expansion coefficient\n",
    "# The expansion coefficient estimates the number of people traveling to our Bedford Ave radius based on the distance from Bedford Ave\n",
    "def expansion(x,var):\n",
    "    r=[]\n",
    "    for i in x:\n",
    "        r.append((scipy.stats.norm(0,var).pdf(i))/scipy.stats.norm(0,var).pdf(0))\n",
    "    return r"
   ]
  },
  {
   "cell_type": "code",
   "execution_count": 101,
   "metadata": {
    "collapsed": false,
    "scrolled": false
   },
   "outputs": [
    {
     "data": {
      "text/html": [
       "<div>\n",
       "<table border=\"1\" class=\"dataframe\">\n",
       "  <thead>\n",
       "    <tr style=\"text-align: right;\">\n",
       "      <th></th>\n",
       "      <th>count_daily_exits</th>\n",
       "      <th>percent_daily_exits</th>\n",
       "      <th>distance_to_bedford</th>\n",
       "      <th>expansion_proportion</th>\n",
       "    </tr>\n",
       "  </thead>\n",
       "  <tbody>\n",
       "    <tr>\n",
       "      <th>nassau</th>\n",
       "      <td>3807</td>\n",
       "      <td>9.08527</td>\n",
       "      <td>0.58</td>\n",
       "      <td>0.154295</td>\n",
       "    </tr>\n",
       "    <tr>\n",
       "      <th>lorimer</th>\n",
       "      <td>2553</td>\n",
       "      <td>6.09264</td>\n",
       "      <td>0.42</td>\n",
       "      <td>0.375311</td>\n",
       "    </tr>\n",
       "    <tr>\n",
       "      <th>graham</th>\n",
       "      <td>5660</td>\n",
       "      <td>13.5074</td>\n",
       "      <td>0.70</td>\n",
       "      <td>0.065729</td>\n",
       "    </tr>\n",
       "    <tr>\n",
       "      <th>metropolitan</th>\n",
       "      <td>3939</td>\n",
       "      <td>9.40028</td>\n",
       "      <td>0.41</td>\n",
       "      <td>0.393022</td>\n",
       "    </tr>\n",
       "    <tr>\n",
       "      <th>bedford</th>\n",
       "      <td>25944</td>\n",
       "      <td>61.9144</td>\n",
       "      <td>0.00</td>\n",
       "      <td>1.000000</td>\n",
       "    </tr>\n",
       "  </tbody>\n",
       "</table>\n",
       "</div>"
      ],
      "text/plain": [
       "             count_daily_exits percent_daily_exits  distance_to_bedford  \\\n",
       "nassau                    3807             9.08527                 0.58   \n",
       "lorimer                   2553             6.09264                 0.42   \n",
       "graham                    5660             13.5074                 0.70   \n",
       "metropolitan              3939             9.40028                 0.41   \n",
       "bedford                  25944             61.9144                 0.00   \n",
       "\n",
       "              expansion_proportion  \n",
       "nassau                    0.154295  \n",
       "lorimer                   0.375311  \n",
       "graham                    0.065729  \n",
       "metropolitan              0.393022  \n",
       "bedford                   1.000000  "
      ]
     },
     "execution_count": 101,
     "metadata": {},
     "output_type": "execute_result"
    }
   ],
   "source": [
    "# the expansion coefficient is the probability function of the normal distribution\n",
    "# for the purposes of this study, we are using 0.3\n",
    "expansion_coef=0.3\n",
    "\n",
    "distances['expansion_proportion']=expansion(distances.distance_to_bedford,expansion_coef)\n",
    "foot_traffic=av_daily_exits.join(distances)\n",
    "foot_traffic"
   ]
  },
  {
   "cell_type": "markdown",
   "metadata": {},
   "source": [
    "Then, the foot traffic is estimated as follows:"
   ]
  },
  {
   "cell_type": "code",
   "execution_count": 102,
   "metadata": {
    "collapsed": true
   },
   "outputs": [],
   "source": [
    "R_1=sum(foot_traffic.expansion_proportion*foot_traffic.count_daily_exits)"
   ]
  },
  {
   "cell_type": "code",
   "execution_count": 103,
   "metadata": {
    "collapsed": false
   },
   "outputs": [
    {
     "name": "stdout",
     "output_type": "stream",
     "text": [
      "CONCLUSION: The total daily ridership today in the area around Bedford Av. station is equal to R=29409\n"
     ]
    }
   ],
   "source": [
    "print('CONCLUSION: The total daily ridership today in the area around Bedford Av. station is equal to R=%d')%R_1"
   ]
  },
  {
   "cell_type": "markdown",
   "metadata": {},
   "source": [
    "# Part 2 - Expenditure in Williamsburg\n",
    "\n",
    "- Total households in three Williamsburg zip codes (11206, 11211, and 11237)\n",
    "- Average household expenture in Williamsburg\n",
    "- Spend by category (listed below) that could contribute to GDP (categorical breakouts only available for all of NYC)"
   ]
  },
  {
   "cell_type": "code",
   "execution_count": 104,
   "metadata": {
    "collapsed": true
   },
   "outputs": [],
   "source": [
    "# households and average household anual expenditures for williamsburg zipcodes\n",
    "# taken from http://www.point2homes.com/US/Neighborhood/NY/Brooklyn/Williamsburg-Demographics.html\n",
    "households = 68787\n",
    "total_expend = 40514"
   ]
  },
  {
   "cell_type": "code",
   "execution_count": 105,
   "metadata": {
    "collapsed": false
   },
   "outputs": [
    {
     "name": "stdout",
     "output_type": "stream",
     "text": [
      "Estimated Total Household Expenditures in Williamsburg is: $ 2786836518\n"
     ]
    }
   ],
   "source": [
    "# estimate regional expenditure ammount \n",
    "Exp_wil = households * total_expend\n",
    "print 'Estimated Total Household Expenditures in Williamsburg is: $',Exp_wil"
   ]
  },
  {
   "cell_type": "markdown",
   "metadata": {},
   "source": [
    "However, we are interested in expenditures that might be associated with commercial activity in the area (for example: education or housing is not associated with commercial activity). \n",
    "We are considering expenditures in the following categories: \n",
    " \n",
    " Healthcare = 5.6%\n",
    " \n",
    " Entertainment = 4.2% \n",
    " \n",
    " Apparel = 3.9% \n",
    " \n",
    " Dining = 13.2% \n",
    " \n",
    " Other = 5.8%"
   ]
  },
  {
   "cell_type": "code",
   "execution_count": 106,
   "metadata": {
    "collapsed": false
   },
   "outputs": [
    {
     "data": {
      "text/html": [
       "<div>\n",
       "<table border=\"1\" class=\"dataframe\">\n",
       "  <thead>\n",
       "    <tr style=\"text-align: right;\">\n",
       "      <th></th>\n",
       "      <th>Spend $</th>\n",
       "      <th>Spend %</th>\n",
       "    </tr>\n",
       "  </thead>\n",
       "  <tbody>\n",
       "    <tr>\n",
       "      <th>healthcare</th>\n",
       "      <td>1.560628e+08</td>\n",
       "      <td>17.125382</td>\n",
       "    </tr>\n",
       "    <tr>\n",
       "      <th>entertainment</th>\n",
       "      <td>1.170471e+08</td>\n",
       "      <td>12.844037</td>\n",
       "    </tr>\n",
       "    <tr>\n",
       "      <th>apparel</th>\n",
       "      <td>1.086866e+08</td>\n",
       "      <td>11.926606</td>\n",
       "    </tr>\n",
       "    <tr>\n",
       "      <th>dining</th>\n",
       "      <td>3.678624e+08</td>\n",
       "      <td>40.366972</td>\n",
       "    </tr>\n",
       "    <tr>\n",
       "      <th>other</th>\n",
       "      <td>1.616365e+08</td>\n",
       "      <td>17.737003</td>\n",
       "    </tr>\n",
       "  </tbody>\n",
       "</table>\n",
       "</div>"
      ],
      "text/plain": [
       "                    Spend $    Spend %\n",
       "healthcare     1.560628e+08  17.125382\n",
       "entertainment  1.170471e+08  12.844037\n",
       "apparel        1.086866e+08  11.926606\n",
       "dining         3.678624e+08  40.366972\n",
       "other          1.616365e+08  17.737003"
      ]
     },
     "execution_count": 106,
     "metadata": {},
     "output_type": "execute_result"
    }
   ],
   "source": [
    "# health = .056\n",
    "# entertain = .042 \n",
    "# apparel = .039 \n",
    "# dining = .132 \n",
    "# other = .058\n",
    "\n",
    "category_names = ['healthcare', 'entertainment', 'apparel', 'dining','other']\n",
    "categories = [.056, .042, .039, .132, .058]\n",
    "my_list = [i*Exp_wil for i in categories] # multiply total expenditure by the percentage of relevant categories\n",
    "\n",
    "#Commercial expenditures:\n",
    "spend = pd.DataFrame(my_list, index= category_names)\n",
    "spend.rename(columns = {0:'Spend $'}, inplace = True)\n",
    "spend['Spend %'] = (spend['Spend $']/np.sum(spend['Spend $']))*100\n",
    "spend"
   ]
  },
  {
   "cell_type": "code",
   "execution_count": 107,
   "metadata": {
    "collapsed": false
   },
   "outputs": [
    {
     "name": "stdout",
     "output_type": "stream",
     "text": [
      "Estimated Commercial spend in Williamsburg is: $ 911295541\n",
      "Estimated Commercial spend is 32.7 % of total estimated expenditures.\n"
     ]
    }
   ],
   "source": [
    "# total relevant expenses amount is just the sum of all relevant categories\n",
    "com_spend_W = sum(spend['Spend $'])\n",
    "print 'Estimated Commercial spend in Williamsburg is: $',int(com_spend_W)\n",
    "print 'Estimated Commercial spend is', (com_spend_W/Exp_wil)*100,'% of total estimated expenditures.'"
   ]
  },
  {
   "cell_type": "markdown",
   "metadata": {},
   "source": [
    "# Part 3 - Calculate commercial space around the Bedford Ave. station\n",
    "- Use PLUTO data\n",
    "- Total commercial space for same three Williamsburg zip codes (11206, 11211, 11237)\n",
    "- Commercial space within radius around the Bedford Ave. station, calculated using ArcGIS"
   ]
  },
  {
   "cell_type": "code",
   "execution_count": 108,
   "metadata": {
    "collapsed": false
   },
   "outputs": [
    {
     "data": {
      "text/html": [
       "<div>\n",
       "<table border=\"1\" class=\"dataframe\">\n",
       "  <thead>\n",
       "    <tr style=\"text-align: right;\">\n",
       "      <th></th>\n",
       "      <th>FID</th>\n",
       "      <th>bldgar</th>\n",
       "      <th>comare</th>\n",
       "      <th>resare</th>\n",
       "      <th>retail</th>\n",
       "      <th>office</th>\n",
       "      <th>zipco</th>\n",
       "      <th>geocode</th>\n",
       "      <th>C1</th>\n",
       "      <th>C2</th>\n",
       "      <th>C3</th>\n",
       "      <th>C4</th>\n",
       "    </tr>\n",
       "  </thead>\n",
       "  <tbody>\n",
       "    <tr>\n",
       "      <th>0</th>\n",
       "      <td>0</td>\n",
       "      <td>456906</td>\n",
       "      <td>54500</td>\n",
       "      <td>402406</td>\n",
       "      <td>8000</td>\n",
       "      <td>28325</td>\n",
       "      <td>11211</td>\n",
       "      <td>360470517001001</td>\n",
       "      <td>40</td>\n",
       "      <td>6</td>\n",
       "      <td>0</td>\n",
       "      <td>0</td>\n",
       "    </tr>\n",
       "    <tr>\n",
       "      <th>1</th>\n",
       "      <td>1</td>\n",
       "      <td>180591</td>\n",
       "      <td>65390</td>\n",
       "      <td>115201</td>\n",
       "      <td>24730</td>\n",
       "      <td>20000</td>\n",
       "      <td>11211</td>\n",
       "      <td>360470517001002</td>\n",
       "      <td>82</td>\n",
       "      <td>133</td>\n",
       "      <td>1</td>\n",
       "      <td>0</td>\n",
       "    </tr>\n",
       "    <tr>\n",
       "      <th>2</th>\n",
       "      <td>2</td>\n",
       "      <td>227160</td>\n",
       "      <td>92068</td>\n",
       "      <td>135092</td>\n",
       "      <td>46914</td>\n",
       "      <td>32111</td>\n",
       "      <td>11211</td>\n",
       "      <td>360470517001003</td>\n",
       "      <td>227</td>\n",
       "      <td>77</td>\n",
       "      <td>0</td>\n",
       "      <td>5</td>\n",
       "    </tr>\n",
       "    <tr>\n",
       "      <th>3</th>\n",
       "      <td>3</td>\n",
       "      <td>100641</td>\n",
       "      <td>15010</td>\n",
       "      <td>85631</td>\n",
       "      <td>7440</td>\n",
       "      <td>6270</td>\n",
       "      <td>11211</td>\n",
       "      <td>360470517001004</td>\n",
       "      <td>20</td>\n",
       "      <td>159</td>\n",
       "      <td>0</td>\n",
       "      <td>0</td>\n",
       "    </tr>\n",
       "    <tr>\n",
       "      <th>4</th>\n",
       "      <td>4</td>\n",
       "      <td>156414</td>\n",
       "      <td>54939</td>\n",
       "      <td>101475</td>\n",
       "      <td>29310</td>\n",
       "      <td>0</td>\n",
       "      <td>11249</td>\n",
       "      <td>360470517002001</td>\n",
       "      <td>55</td>\n",
       "      <td>114</td>\n",
       "      <td>0</td>\n",
       "      <td>0</td>\n",
       "    </tr>\n",
       "  </tbody>\n",
       "</table>\n",
       "</div>"
      ],
      "text/plain": [
       "   FID  bldgar  comare  resare  retail  office  zipco          geocode   C1  \\\n",
       "0    0  456906   54500  402406    8000   28325  11211  360470517001001   40   \n",
       "1    1  180591   65390  115201   24730   20000  11211  360470517001002   82   \n",
       "2    2  227160   92068  135092   46914   32111  11211  360470517001003  227   \n",
       "3    3  100641   15010   85631    7440    6270  11211  360470517001004   20   \n",
       "4    4  156414   54939  101475   29310       0  11249  360470517002001   55   \n",
       "\n",
       "    C2  C3  C4  \n",
       "0    6   0   0  \n",
       "1  133   1   0  \n",
       "2   77   0   5  \n",
       "3  159   0   0  \n",
       "4  114   0   0  "
      ]
     },
     "execution_count": 108,
     "metadata": {},
     "output_type": "execute_result"
    }
   ],
   "source": [
    "#This file contains PLUTO data aggregated by census blocks around Bedford Av.\n",
    "pluto_df=pd.read_csv('pluto_lehd_blocks.csv')\n",
    "pluto_df.head()"
   ]
  },
  {
   "cell_type": "code",
   "execution_count": 109,
   "metadata": {
    "collapsed": true
   },
   "outputs": [],
   "source": [
    "# Calculate commercial and retail density \n",
    "dC=(pluto_df['comare']+pluto_df['retail'])/pluto_df['bldgar']\n",
    "pluto_df['commercial_density']=dC"
   ]
  },
  {
   "cell_type": "code",
   "execution_count": 110,
   "metadata": {
    "collapsed": false
   },
   "outputs": [
    {
     "name": "stdout",
     "output_type": "stream",
     "text": [
      "Commercial square footage within radius is: 2595120\n",
      "Total commercial square footage in Williamsburg is: 39715979\n",
      "The percentage of square footage within radius is: 6.53419622364 %\n"
     ]
    }
   ],
   "source": [
    "ct_area=np.sum(pluto_df.comare)\n",
    "# PLUTO: total Commerce area in Williamsburg:\n",
    "total_comm = 39715979.0\n",
    "\n",
    "# calculate the commercial area within our bedford ave radius\n",
    "target_area = ct_area/total_comm\n",
    "\n",
    "print 'Commercial square footage within radius is:', ct_area\n",
    "print 'Total commercial square footage in Williamsburg is:', int(total_comm)\n",
    "print 'The percentage of square footage within radius is:', target_area*100,'%'"
   ]
  },
  {
   "cell_type": "code",
   "execution_count": 111,
   "metadata": {
    "collapsed": false
   },
   "outputs": [
    {
     "name": "stdout",
     "output_type": "stream",
     "text": [
      "The estimated size of our economy around the Bedford Station is: $ 59545838\n"
     ]
    }
   ],
   "source": [
    "# calculate commercial spend in our area, \n",
    "com_exp_bed = target_area * com_spend_W\n",
    "com_exp_bed\n",
    "print 'The estimated size of our economy around the Bedford Station is: $', int(com_exp_bed)"
   ]
  },
  {
   "cell_type": "markdown",
   "metadata": {},
   "source": [
    "## Relationship Between Foot Traffic and Density of Comercial Areas"
   ]
  },
  {
   "cell_type": "code",
   "execution_count": 112,
   "metadata": {
    "collapsed": false
   },
   "outputs": [
    {
     "data": {
      "text/html": [
       "<div>\n",
       "<table border=\"1\" class=\"dataframe\">\n",
       "  <thead>\n",
       "    <tr style=\"text-align: right;\">\n",
       "      <th></th>\n",
       "      <th>FID</th>\n",
       "      <th>bldgar</th>\n",
       "      <th>comare</th>\n",
       "      <th>resare</th>\n",
       "      <th>retail</th>\n",
       "      <th>office</th>\n",
       "      <th>zipco</th>\n",
       "      <th>geocode</th>\n",
       "      <th>C1</th>\n",
       "      <th>C2</th>\n",
       "      <th>C3</th>\n",
       "      <th>C4</th>\n",
       "      <th>commercial_density</th>\n",
       "    </tr>\n",
       "  </thead>\n",
       "  <tbody>\n",
       "    <tr>\n",
       "      <th>0</th>\n",
       "      <td>0</td>\n",
       "      <td>456906</td>\n",
       "      <td>54500</td>\n",
       "      <td>402406</td>\n",
       "      <td>8000</td>\n",
       "      <td>28325</td>\n",
       "      <td>11211</td>\n",
       "      <td>360470517001001</td>\n",
       "      <td>40</td>\n",
       "      <td>6</td>\n",
       "      <td>0</td>\n",
       "      <td>0</td>\n",
       "      <td>0.136790</td>\n",
       "    </tr>\n",
       "    <tr>\n",
       "      <th>1</th>\n",
       "      <td>1</td>\n",
       "      <td>180591</td>\n",
       "      <td>65390</td>\n",
       "      <td>115201</td>\n",
       "      <td>24730</td>\n",
       "      <td>20000</td>\n",
       "      <td>11211</td>\n",
       "      <td>360470517001002</td>\n",
       "      <td>82</td>\n",
       "      <td>133</td>\n",
       "      <td>1</td>\n",
       "      <td>0</td>\n",
       "      <td>0.499028</td>\n",
       "    </tr>\n",
       "    <tr>\n",
       "      <th>2</th>\n",
       "      <td>2</td>\n",
       "      <td>227160</td>\n",
       "      <td>92068</td>\n",
       "      <td>135092</td>\n",
       "      <td>46914</td>\n",
       "      <td>32111</td>\n",
       "      <td>11211</td>\n",
       "      <td>360470517001003</td>\n",
       "      <td>227</td>\n",
       "      <td>77</td>\n",
       "      <td>0</td>\n",
       "      <td>5</td>\n",
       "      <td>0.611824</td>\n",
       "    </tr>\n",
       "    <tr>\n",
       "      <th>3</th>\n",
       "      <td>3</td>\n",
       "      <td>100641</td>\n",
       "      <td>15010</td>\n",
       "      <td>85631</td>\n",
       "      <td>7440</td>\n",
       "      <td>6270</td>\n",
       "      <td>11211</td>\n",
       "      <td>360470517001004</td>\n",
       "      <td>20</td>\n",
       "      <td>159</td>\n",
       "      <td>0</td>\n",
       "      <td>0</td>\n",
       "      <td>0.223070</td>\n",
       "    </tr>\n",
       "    <tr>\n",
       "      <th>4</th>\n",
       "      <td>4</td>\n",
       "      <td>156414</td>\n",
       "      <td>54939</td>\n",
       "      <td>101475</td>\n",
       "      <td>29310</td>\n",
       "      <td>0</td>\n",
       "      <td>11249</td>\n",
       "      <td>360470517002001</td>\n",
       "      <td>55</td>\n",
       "      <td>114</td>\n",
       "      <td>0</td>\n",
       "      <td>0</td>\n",
       "      <td>0.538628</td>\n",
       "    </tr>\n",
       "  </tbody>\n",
       "</table>\n",
       "</div>"
      ],
      "text/plain": [
       "   FID  bldgar  comare  resare  retail  office  zipco          geocode   C1  \\\n",
       "0    0  456906   54500  402406    8000   28325  11211  360470517001001   40   \n",
       "1    1  180591   65390  115201   24730   20000  11211  360470517001002   82   \n",
       "2    2  227160   92068  135092   46914   32111  11211  360470517001003  227   \n",
       "3    3  100641   15010   85631    7440    6270  11211  360470517001004   20   \n",
       "4    4  156414   54939  101475   29310       0  11249  360470517002001   55   \n",
       "\n",
       "    C2  C3  C4  commercial_density  \n",
       "0    6   0   0            0.136790  \n",
       "1  133   1   0            0.499028  \n",
       "2   77   0   5            0.611824  \n",
       "3  159   0   0            0.223070  \n",
       "4  114   0   0            0.538628  "
      ]
     },
     "execution_count": 112,
     "metadata": {},
     "output_type": "execute_result"
    }
   ],
   "source": [
    "pluto_df.head()"
   ]
  },
  {
   "cell_type": "code",
   "execution_count": 113,
   "metadata": {
    "collapsed": false
   },
   "outputs": [
    {
     "name": "stdout",
     "output_type": "stream",
     "text": [
      "Relationship between comemrcial_density and foot traffic 0.0152138296899\n"
     ]
    }
   ],
   "source": [
    "pluto_df['alpha_coef']=pluto_df.commercial_density/(R_1/1000)\n",
    "print \"Relationship between comemrcial_density and foot traffic\", mean(pluto_df.alpha_coef)"
   ]
  },
  {
   "cell_type": "markdown",
   "metadata": {},
   "source": [
    "# PART  4 - Estimating impact on foot traffic after tunnel closure"
   ]
  },
  {
   "cell_type": "markdown",
   "metadata": {},
   "source": [
    "LEHD Data gave us the proportion of workers that might be affected for the Canarsie tunel shotdown (people traveling from Brooklyn to Manhattan every day) is 58%. \n",
    "\n",
    "So now, we are going to assume that our foot traffic is going to decrease for Bedford avenue to a 42% of the original value. The full explanation for this decision is explained in the paper."
   ]
  },
  {
   "cell_type": "code",
   "execution_count": 114,
   "metadata": {
    "collapsed": false
   },
   "outputs": [
    {
     "data": {
      "text/html": [
       "<div>\n",
       "<table border=\"1\" class=\"dataframe\">\n",
       "  <thead>\n",
       "    <tr style=\"text-align: right;\">\n",
       "      <th></th>\n",
       "      <th>count_daily_exits</th>\n",
       "      <th>percent_daily_exits</th>\n",
       "      <th>distance_to_bedford</th>\n",
       "      <th>expansion_proportion</th>\n",
       "    </tr>\n",
       "  </thead>\n",
       "  <tbody>\n",
       "    <tr>\n",
       "      <th>nassau</th>\n",
       "      <td>3807</td>\n",
       "      <td>9.08527</td>\n",
       "      <td>0.58</td>\n",
       "      <td>0.154295</td>\n",
       "    </tr>\n",
       "    <tr>\n",
       "      <th>lorimer</th>\n",
       "      <td>2553</td>\n",
       "      <td>6.09264</td>\n",
       "      <td>0.42</td>\n",
       "      <td>0.375311</td>\n",
       "    </tr>\n",
       "    <tr>\n",
       "      <th>graham</th>\n",
       "      <td>5660</td>\n",
       "      <td>13.5074</td>\n",
       "      <td>0.70</td>\n",
       "      <td>0.065729</td>\n",
       "    </tr>\n",
       "    <tr>\n",
       "      <th>metropolitan</th>\n",
       "      <td>3939</td>\n",
       "      <td>9.40028</td>\n",
       "      <td>0.41</td>\n",
       "      <td>0.393022</td>\n",
       "    </tr>\n",
       "    <tr>\n",
       "      <th>bedford</th>\n",
       "      <td>15047</td>\n",
       "      <td>61.9144</td>\n",
       "      <td>0.00</td>\n",
       "      <td>1.000000</td>\n",
       "    </tr>\n",
       "  </tbody>\n",
       "</table>\n",
       "</div>"
      ],
      "text/plain": [
       "             count_daily_exits percent_daily_exits  distance_to_bedford  \\\n",
       "nassau                    3807             9.08527                 0.58   \n",
       "lorimer                   2553             6.09264                 0.42   \n",
       "graham                    5660             13.5074                 0.70   \n",
       "metropolitan              3939             9.40028                 0.41   \n",
       "bedford                  15047             61.9144                 0.00   \n",
       "\n",
       "              expansion_proportion  \n",
       "nassau                    0.154295  \n",
       "lorimer                   0.375311  \n",
       "graham                    0.065729  \n",
       "metropolitan              0.393022  \n",
       "bedford                   1.000000  "
      ]
     },
     "execution_count": 114,
     "metadata": {},
     "output_type": "execute_result"
    }
   ],
   "source": [
    "#Change percent_daily_exits\n",
    "impact_on_traf=0.58\n",
    "#impact_on_traf=(3.0/2.0)*0.58\n",
    "\n",
    "foot_traffic2=foot_traffic\n",
    "foot_traffic2.head()\n",
    "foot_traffic2.loc['bedford','count_daily_exits']=int(foot_traffic.loc['bedford','count_daily_exits']*impact_on_traf)\n",
    "foot_traffic2"
   ]
  },
  {
   "cell_type": "code",
   "execution_count": 115,
   "metadata": {
    "collapsed": false
   },
   "outputs": [
    {
     "name": "stdout",
     "output_type": "stream",
     "text": [
      "CONCLUSION: The forecasted daily foot traffic in the area around Bedford Av. station is equal to R = 18512\n"
     ]
    }
   ],
   "source": [
    "R_2=sum(foot_traffic.expansion_proportion*foot_traffic.count_daily_exits)\n",
    "print('CONCLUSION: The forecasted daily foot traffic in the area around Bedford Av. station is equal to R = %d')%R_2"
   ]
  },
  {
   "cell_type": "markdown",
   "metadata": {},
   "source": [
    "# Step 5 - Estimate Impact on Commercial Areas"
   ]
  },
  {
   "cell_type": "markdown",
   "metadata": {},
   "source": [
    "Previously, the alpha coefficient (relationship between commercial density and foot traffic) was calculated for each census block.\n",
    "Now, we are going to use the same alpha coefficient to calculate the possible reduction on commercial density"
   ]
  },
  {
   "cell_type": "code",
   "execution_count": 116,
   "metadata": {
    "collapsed": true
   },
   "outputs": [],
   "source": [
    "pluto_df2=pluto_df"
   ]
  },
  {
   "cell_type": "code",
   "execution_count": 121,
   "metadata": {
    "collapsed": false
   },
   "outputs": [
    {
     "data": {
      "text/html": [
       "<div>\n",
       "<table border=\"1\" class=\"dataframe\">\n",
       "  <thead>\n",
       "    <tr style=\"text-align: right;\">\n",
       "      <th></th>\n",
       "      <th>FID</th>\n",
       "      <th>bldgar</th>\n",
       "      <th>comare</th>\n",
       "      <th>resare</th>\n",
       "      <th>retail</th>\n",
       "      <th>office</th>\n",
       "      <th>zipco</th>\n",
       "      <th>geocode</th>\n",
       "      <th>C1</th>\n",
       "      <th>C2</th>\n",
       "      <th>C3</th>\n",
       "      <th>C4</th>\n",
       "      <th>commercial_density</th>\n",
       "      <th>alpha_coef</th>\n",
       "      <th>projected_commercial_density</th>\n",
       "      <th>projected_commercial_area</th>\n",
       "    </tr>\n",
       "  </thead>\n",
       "  <tbody>\n",
       "    <tr>\n",
       "      <th>0</th>\n",
       "      <td>0</td>\n",
       "      <td>456906</td>\n",
       "      <td>54500</td>\n",
       "      <td>402406</td>\n",
       "      <td>8000</td>\n",
       "      <td>28325</td>\n",
       "      <td>11211</td>\n",
       "      <td>360470517001001</td>\n",
       "      <td>40</td>\n",
       "      <td>6</td>\n",
       "      <td>0</td>\n",
       "      <td>0</td>\n",
       "      <td>0.136790</td>\n",
       "      <td>0.004651</td>\n",
       "      <td>0.011778</td>\n",
       "      <td>5381.612433</td>\n",
       "    </tr>\n",
       "    <tr>\n",
       "      <th>1</th>\n",
       "      <td>1</td>\n",
       "      <td>180591</td>\n",
       "      <td>65390</td>\n",
       "      <td>115201</td>\n",
       "      <td>24730</td>\n",
       "      <td>20000</td>\n",
       "      <td>11211</td>\n",
       "      <td>360470517001002</td>\n",
       "      <td>82</td>\n",
       "      <td>133</td>\n",
       "      <td>1</td>\n",
       "      <td>0</td>\n",
       "      <td>0.499028</td>\n",
       "      <td>0.016968</td>\n",
       "      <td>0.156758</td>\n",
       "      <td>28309.063838</td>\n",
       "    </tr>\n",
       "    <tr>\n",
       "      <th>2</th>\n",
       "      <td>2</td>\n",
       "      <td>227160</td>\n",
       "      <td>92068</td>\n",
       "      <td>135092</td>\n",
       "      <td>46914</td>\n",
       "      <td>32111</td>\n",
       "      <td>11211</td>\n",
       "      <td>360470517001003</td>\n",
       "      <td>227</td>\n",
       "      <td>77</td>\n",
       "      <td>0</td>\n",
       "      <td>5</td>\n",
       "      <td>0.611824</td>\n",
       "      <td>0.020803</td>\n",
       "      <td>0.235631</td>\n",
       "      <td>53525.964116</td>\n",
       "    </tr>\n",
       "    <tr>\n",
       "      <th>3</th>\n",
       "      <td>3</td>\n",
       "      <td>100641</td>\n",
       "      <td>15010</td>\n",
       "      <td>85631</td>\n",
       "      <td>7440</td>\n",
       "      <td>6270</td>\n",
       "      <td>11211</td>\n",
       "      <td>360470517001004</td>\n",
       "      <td>20</td>\n",
       "      <td>159</td>\n",
       "      <td>0</td>\n",
       "      <td>0</td>\n",
       "      <td>0.223070</td>\n",
       "      <td>0.007585</td>\n",
       "      <td>0.031323</td>\n",
       "      <td>3152.368592</td>\n",
       "    </tr>\n",
       "    <tr>\n",
       "      <th>4</th>\n",
       "      <td>4</td>\n",
       "      <td>156414</td>\n",
       "      <td>54939</td>\n",
       "      <td>101475</td>\n",
       "      <td>29310</td>\n",
       "      <td>0</td>\n",
       "      <td>11249</td>\n",
       "      <td>360470517002001</td>\n",
       "      <td>55</td>\n",
       "      <td>114</td>\n",
       "      <td>0</td>\n",
       "      <td>0</td>\n",
       "      <td>0.538628</td>\n",
       "      <td>0.018315</td>\n",
       "      <td>0.182624</td>\n",
       "      <td>28564.927850</td>\n",
       "    </tr>\n",
       "  </tbody>\n",
       "</table>\n",
       "</div>"
      ],
      "text/plain": [
       "   FID  bldgar  comare  resare  retail  office  zipco          geocode   C1  \\\n",
       "0    0  456906   54500  402406    8000   28325  11211  360470517001001   40   \n",
       "1    1  180591   65390  115201   24730   20000  11211  360470517001002   82   \n",
       "2    2  227160   92068  135092   46914   32111  11211  360470517001003  227   \n",
       "3    3  100641   15010   85631    7440    6270  11211  360470517001004   20   \n",
       "4    4  156414   54939  101475   29310       0  11249  360470517002001   55   \n",
       "\n",
       "    C2  C3  C4  commercial_density  alpha_coef  projected_commercial_density  \\\n",
       "0    6   0   0            0.136790    0.004651                      0.011778   \n",
       "1  133   1   0            0.499028    0.016968                      0.156758   \n",
       "2   77   0   5            0.611824    0.020803                      0.235631   \n",
       "3  159   0   0            0.223070    0.007585                      0.031323   \n",
       "4  114   0   0            0.538628    0.018315                      0.182624   \n",
       "\n",
       "   projected_commercial_area  \n",
       "0                5381.612433  \n",
       "1               28309.063838  \n",
       "2               53525.964116  \n",
       "3                3152.368592  \n",
       "4               28564.927850  "
      ]
     },
     "execution_count": 121,
     "metadata": {},
     "output_type": "execute_result"
    }
   ],
   "source": [
    "# calculate the estimated impacts on commercial space after the shutdown\n",
    "pluto_df2['projected_commercial_density']=pluto_df['commercial_density']*(R_2/1000)*pluto_df['alpha_coef']\n",
    "pluto_df2['projected_commercial_area']=pluto_df2['projected_commercial_density']*pluto_df2['bldgar']\n",
    "pluto_df2.head()"
   ]
  },
  {
   "cell_type": "code",
   "execution_count": 122,
   "metadata": {
    "collapsed": true
   },
   "outputs": [],
   "source": [
    "pluto_df2.to_csv('pluto_coef.csv')"
   ]
  },
  {
   "cell_type": "code",
   "execution_count": 123,
   "metadata": {
    "collapsed": false
   },
   "outputs": [
    {
     "name": "stdout",
     "output_type": "stream",
     "text": [
      "Commercial square footage within radius today is: 2595120\n",
      "Commercial square footage within radius projected is: 1680688.53206\n",
      "decrease of 0.3523657742\n"
     ]
    }
   ],
   "source": [
    "ct_area=np.sum(pluto_df.comare)\n",
    "ct_area2=np.sum(pluto_df2.projected_commercial_area)\n",
    "# PLUTO: total Commerce area in Williamsburg:\n",
    "\n",
    "print 'Commercial square footage within radius today is:', ct_area\n",
    "print'Commercial square footage within radius projected is:', ct_area2\n",
    "print 'decrease of',(1-ct_area2/ct_area)"
   ]
  },
  {
   "cell_type": "code",
   "execution_count": 124,
   "metadata": {
    "collapsed": false
   },
   "outputs": [
    {
     "name": "stdout",
     "output_type": "stream",
     "text": [
      "The estimated size of our economy around the Bedford Station is: $ 59545838\n",
      "The estimated size of our economy around the Bedford Station after closure of tunel: $ 38563923\n",
      "decrease of 0.3523657742\n"
     ]
    }
   ],
   "source": [
    "# calculate commercial spend in our area, \n",
    "total_comm = 39715979.0\n",
    "target_area2 = ct_area2/total_comm\n",
    "com_exp_bed_proj = target_area2 * com_spend_W\n",
    "com_exp_bed=target_area * com_spend_W\n",
    "print 'The estimated size of our economy around the Bedford Station is: $', int(com_exp_bed)\n",
    "print 'The estimated size of our economy around the Bedford Station after closure of tunel: $', int(com_exp_bed_proj)\n",
    "print 'decrease of',(1-com_exp_bed_proj/com_exp_bed)"
   ]
  }
 ],
 "metadata": {
  "kernelspec": {
   "display_name": "Python 2",
   "language": "python",
   "name": "python2"
  },
  "language_info": {
   "codemirror_mode": {
    "name": "ipython",
    "version": 2
   },
   "file_extension": ".py",
   "mimetype": "text/x-python",
   "name": "python",
   "nbconvert_exporter": "python",
   "pygments_lexer": "ipython2",
   "version": "2.7.11"
  }
 },
 "nbformat": 4,
 "nbformat_minor": 0
}
